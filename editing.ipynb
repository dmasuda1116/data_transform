{
  "nbformat": 4,
  "nbformat_minor": 0,
  "metadata": {
    "colab": {
      "name": "editing.ipynb",
      "provenance": [],
      "collapsed_sections": []
    },
    "kernelspec": {
      "name": "python3",
      "display_name": "Python 3"
    },
    "accelerator": "GPU"
  },
  "cells": [
    {
      "cell_type": "code",
      "metadata": {
        "id": "0mmub6tzzeUL"
      },
      "source": [
        "\"\"\"\r\n",
        "This script binarizes the data in a csv.\r\n",
        "\r\n",
        "\"\"\"\r\n",
        "# coding: utf-8\r\n",
        "import pandas as pd\r\n",
        "import numpy as  np\r\n",
        "import seaborn as sns\r\n",
        "import matplotlib.pyplot as plt\r\n",
        "import itertools\r\n",
        "import csv\r\n",
        "import sys\r\n",
        "import argparse"
      ],
      "execution_count": 1,
      "outputs": []
    },
    {
      "cell_type": "code",
      "metadata": {
        "colab": {
          "base_uri": "https://localhost:8080/"
        },
        "id": "LGtrSgfb2Qhe",
        "outputId": "fbaa6411-7a38-4fb0-cdcd-b882340ef7ed"
      },
      "source": [
        "from google.colab import drive\r\n",
        "drive.mount('/content/drive')"
      ],
      "execution_count": 30,
      "outputs": [
        {
          "output_type": "stream",
          "text": [
            "Mounted at /content/drive\n"
          ],
          "name": "stdout"
        }
      ]
    },
    {
      "cell_type": "code",
      "metadata": {
        "colab": {
          "base_uri": "https://localhost:8080/"
        },
        "id": "myfATk5O6b0Z",
        "outputId": "3933389b-60f7-45bf-de5b-6a3eea845da7"
      },
      "source": [
        "import os\r\n",
        "\r\n",
        "base_dir = '/content/drive/MyDrive/'\r\n",
        "os.listdir(base_dir)"
      ],
      "execution_count": 47,
      "outputs": [
        {
          "output_type": "execute_result",
          "data": {
            "text/plain": [
              "['Colab Notebooks']"
            ]
          },
          "metadata": {
            "tags": []
          },
          "execution_count": 47
        }
      ]
    },
    {
      "cell_type": "code",
      "metadata": {
        "colab": {
          "base_uri": "https://localhost:8080/"
        },
        "id": "FsHqVwSt7tyI",
        "outputId": "f502ba5c-c3ee-4845-9051-de13f7eb0435"
      },
      "source": [
        "cd 'Colab Notebooks'"
      ],
      "execution_count": 48,
      "outputs": [
        {
          "output_type": "stream",
          "text": [
            "/content/drive/My Drive/Colab Notebooks\n"
          ],
          "name": "stdout"
        }
      ]
    },
    {
      "cell_type": "code",
      "metadata": {
        "colab": {
          "base_uri": "https://localhost:8080/"
        },
        "id": "vXI-0qoH72Zw",
        "outputId": "e7199dd8-a828-48d5-d478-1a06810df5f5"
      },
      "source": [
        "ls"
      ],
      "execution_count": 49,
      "outputs": [
        {
          "output_type": "stream",
          "text": [
            "editing.ipynb  Japanese.csv\n"
          ],
          "name": "stdout"
        }
      ]
    },
    {
      "cell_type": "code",
      "metadata": {
        "id": "jXx8FjiXzhwY"
      },
      "source": [
        "def Binarization(input_csv, output_csv):\r\n",
        "    data = pd.read_csv(input_csv, encoding='Shift-JIS').values.tolist()\r\n",
        "    print('==========================')\r\n",
        "\r\n",
        "    print('#Loaded data from the csv#')\r\n",
        "    print('--------------------------')\r\n",
        "\r\n",
        "    print(data)\r\n",
        "    print('==========================')\r\n",
        "    ingre_sep=[]\r\n",
        "\r\n",
        "    for i in range(len(data)):\r\n",
        "        ingre_sep.append(data[i][1].split('、'))\r\n",
        "\r\n",
        "    ingre_sep_f=list(itertools.chain.from_iterable(ingre_sep))\r\n",
        "    ingre_unique_list=(np.unique(ingre_sep_f)).tolist()\r\n",
        "\r\n",
        "    print('         .       ')\r\n",
        "    print('         .       ')\r\n",
        "    print('Modifying the data')\r\n",
        "    print('         .       ')\r\n",
        "    print('         .       ')\r\n",
        "\r\n",
        "    modified_data=[]\r\n",
        "    #Giving the variables to modified_data which is to be converted in a csv file\r\n",
        "    variables = ['name']+ingre_unique_list\r\n",
        "    modified_data.append(variables)\r\n",
        "    #Setting values for each column, 'j'th one.\r\n",
        "    for j in range(len(data)):\r\n",
        "        renewed_data=[]\r\n",
        "        renewed_data.append(data[j][0])\r\n",
        "        for i in range(len(ingre_unique_list)):\r\n",
        "            #converting imformation whether each ingredient is included in the product or not, 0 or 1, so called binarization.\r\n",
        "\r\n",
        "            if ingre_unique_list[i] in ingre_sep[j]:\r\n",
        "                renewed_data.append(1)\r\n",
        "            else:\r\n",
        "                renewed_data.append(0)\r\n",
        "        modified_data.append(renewed_data)\r\n",
        "\r\n",
        "    print('==========================')\r\n",
        "\r\n",
        "    print('#Data-modifying completed#')\r\n",
        "    print('--------------------------')\r\n",
        "\r\n",
        "    print(modified_data)\r\n",
        "    print('==========================')\r\n",
        "    input_csv\r\n",
        "    with open(output_csv, 'w', encoding='Shift-JIS') as f:\r\n",
        "        for i in range(len(modified_data)):\r\n",
        "            writer = csv.writer(f, lineterminator='\\n')\r\n",
        "            writer.writerow(modified_data[i])\r\n",
        "    print('         .       ')\r\n",
        "    print('         .       ')\r\n",
        "    print('--------------------------')\r\n",
        "    print('#You have obtained ['+ output_csv +'] in the current directory')\r\n",
        "    print('--------------------------')\r\n",
        "\r\n",
        "    return pd.read_csv(output_csv, encoding='Shift-JIS').values.tolist()"
      ],
      "execution_count": 2,
      "outputs": []
    },
    {
      "cell_type": "code",
      "metadata": {
        "colab": {
          "base_uri": "https://localhost:8080/"
        },
        "id": "B1J9u4VW03d5",
        "outputId": "f09ddb37-0725-4338-c881-5b1d4082a4d8"
      },
      "source": [
        "input_sxv = input(\"Choose the file to convert:\")\r\n",
        "output_f = input(\"Name the file to export:\")"
      ],
      "execution_count": 39,
      "outputs": [
        {
          "output_type": "stream",
          "text": [
            "Choose the file to convert:Japanese.csv\n",
            "Name the file to export:s.csv\n"
          ],
          "name": "stdout"
        }
      ]
    },
    {
      "cell_type": "code",
      "metadata": {
        "colab": {
          "base_uri": "https://localhost:8080/"
        },
        "id": "8seN40IK0-F-",
        "outputId": "d3430d1c-34f8-431d-b1c1-d0b5fcc97f7b"
      },
      "source": [
        "Binarization(input_csv, output_csv)"
      ],
      "execution_count": 50,
      "outputs": [
        {
          "output_type": "stream",
          "text": [
            "==========================\n",
            "#Loaded data from the csv#\n",
            "--------------------------\n",
            "[['goods1', '牛乳、砂糖、塩、卵黄、カカオ'], ['goods2', '鶏ガラ、牛乳、カカオ、苺']]\n",
            "==========================\n",
            "         .       \n",
            "         .       \n",
            "Modifying the data\n",
            "         .       \n",
            "         .       \n",
            "==========================\n",
            "#Data-modifying completed#\n",
            "--------------------------\n",
            "[['name', 'カカオ', '卵黄', '塩', '牛乳', '砂糖', '苺', '鶏ガラ'], ['goods1', 1, 1, 1, 1, 1, 0, 0], ['goods2', 1, 0, 0, 1, 0, 1, 1]]\n",
            "==========================\n",
            "         .       \n",
            "         .       \n",
            "--------------------------\n",
            "#You have obtained [l.csv] in the current directory\n",
            "--------------------------\n"
          ],
          "name": "stdout"
        },
        {
          "output_type": "execute_result",
          "data": {
            "text/plain": [
              "[['goods1', 1, 1, 1, 1, 1, 0, 0], ['goods2', 1, 0, 0, 1, 0, 1, 1]]"
            ]
          },
          "metadata": {
            "tags": []
          },
          "execution_count": 50
        }
      ]
    },
    {
      "cell_type": "code",
      "metadata": {
        "id": "O__Ob1-01R_Y"
      },
      "source": [
        ""
      ],
      "execution_count": null,
      "outputs": []
    },
    {
      "cell_type": "code",
      "metadata": {
        "id": "l5c7nnN58V0Y"
      },
      "source": [
        ""
      ],
      "execution_count": null,
      "outputs": []
    }
  ]
}