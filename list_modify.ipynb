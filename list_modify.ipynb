{
  "nbformat": 4,
  "nbformat_minor": 0,
  "metadata": {
    "colab": {
      "name": "list_modify.ipynb",
      "provenance": [],
      "collapsed_sections": []
    },
    "kernelspec": {
      "name": "python3",
      "display_name": "Python 3"
    }
  },
  "cells": [
    {
      "cell_type": "code",
      "metadata": {
        "colab": {
          "base_uri": "https://localhost:8080/"
        },
        "id": "eJr_e6g3pCwY",
        "outputId": "507eb7b0-acba-455e-b8f6-98e52a21ed69"
      },
      "source": [
        "import re\r\n",
        "\r\n",
        "ing='カカオマス、全粉乳、フラクトオリゴ糖、砂糖、植物油脂、ココアバター／乳化剤、香料、（一部に乳成分・大豆を含むA）、砂糖（国内製造）、全粉乳、カカオマス、ココアバター、脱脂粉乳／乳化剤、香料、（一部に乳成分・大豆を含むB）'\r\n",
        "t = ing.split('（')[1:]\r\n",
        "in_brackets=[]\r\n",
        "out_brackets=[]\r\n",
        "out_brackets.append(ing.split('（')[0])\r\n",
        "for i in range(len(t)):\r\n",
        "    print(i)\r\n",
        "    in_brackets.append(t[i].split('）')[0])\r\n",
        "    out_brackets.append(t[i].split('）')[1])\r\n",
        "\r\n",
        "print('out_brackets:')\r\n",
        "print(out_brackets)\r\n",
        "print('in_brackets:')\r\n",
        "print(in_brackets)\r\n",
        "out_brackets_S=splitter(out_brackets)\r\n",
        "print('out_brackets_S:')\r\n",
        "print(out_brackets_S)"
      ],
      "execution_count": null,
      "outputs": [
        {
          "output_type": "stream",
          "text": [
            "0\n",
            "1\n",
            "2\n",
            "out_brackets:\n",
            "['カカオマス、全粉乳、フラクトオリゴ糖、砂糖、植物油脂、ココアバター／乳化剤、香料、', '、砂糖', '、全粉乳、カカオマス、ココアバター、脱脂粉乳／乳化剤、香料、', '']\n",
            "in_brackets:\n",
            "['一部に乳成分・あ大豆を含む', '国内製造', '一部に乳成分・大豆を含む']\n",
            "out_brackets_S:\n",
            "['カカオマス', '全粉乳', 'フラクトオリゴ糖', '砂糖', '植物油脂', 'ココアバター／乳化剤', '香料', '砂糖', '全粉乳', 'カカオマス', 'ココアバター', '脱脂粉乳／乳化剤', '香料']\n"
          ],
          "name": "stdout"
        }
      ]
    },
    {
      "cell_type": "code",
      "metadata": {
        "id": "uaDt9Jn9rbjE"
      },
      "source": [
        "def splitter(list):\r\n",
        "  separated=[]\r\n",
        "  for i in range(len(list)):\r\n",
        "    sep=list[i].split('、')\r\n",
        "    for j in sep:\r\n",
        "      if j!='':\r\n",
        "        separated.append(j)\r\n",
        "  return separated\r\n",
        "class Brackets_eraser():\r\n",
        "  def Eraser(list):\r\n",
        "    Erased=[]\r\n",
        "    for a in range(len(list)):\r\n",
        "      print(a)\r\n",
        "      t = list[a].split('（')[1:]\r\n",
        "      in_brackets_E=[]\r\n",
        "      out_brackets_E=[]\r\n",
        "      out_brackets_E.append(list[a].split('（')[0])\r\n",
        "      for i in range(len(t)):\r\n",
        "        in_brackets_E.append(t[i].split('）')[0])\r\n",
        "        out_brackets_E.append(t[i].split('）')[1])\r\n",
        "      Erased.append([in_brackets_E, splitter(out_brackets_E)])\r\n",
        "    return Erased\r\n",
        "\r\n",
        "  def modified(list, trash_list):\r\n",
        "    list=Brackets_eraser.Eraser(list)\r\n",
        "    print(list)\r\n",
        "    new_list=[]\r\n",
        "    #trash_list=['一部に乳成分・大豆を含む']\r\n",
        "    for i in range(len(list)):\r\n",
        "      print(len(list))\r\n",
        "      pre=[]\r\n",
        "      for j in range(len(list[i][0])):\r\n",
        "        \r\n",
        "        if list[i][0][j] in trash_list:\r\n",
        "          pass\r\n",
        "        else:\r\n",
        "          pre.append(list[i][0][j])\r\n",
        "      new_list.append([pre,list[i][1]])\r\n",
        "    return new_list\r\n",
        "\r\n",
        "\r\n",
        "\r\n",
        "        "
      ],
      "execution_count": 11,
      "outputs": []
    },
    {
      "cell_type": "code",
      "metadata": {
        "id": "-fbKFKM8YLIh"
      },
      "source": [
        ""
      ],
      "execution_count": null,
      "outputs": []
    },
    {
      "cell_type": "code",
      "metadata": {
        "colab": {
          "base_uri": "https://localhost:8080/"
        },
        "id": "JRBqaVYJpe_s",
        "outputId": "2cc4f84e-70d5-498a-d22b-4d153130530a"
      },
      "source": [
        "ing2='カカオマス、全粉乳、フラクトオリゴ糖、砂糖、植物油脂、ココアバター／乳化剤、香料、（一部に乳成分・大豆を含む）、砂糖（国内製造）、全粉乳、カカオマス、ココアバター、脱脂粉乳／乳化剤、香料、（一部に乳成分・大豆を含む）'\r\n",
        "testC = Brackets_eraser.modified([ing2],'0')\r\n",
        "print(testC)"
      ],
      "execution_count": 13,
      "outputs": [
        {
          "output_type": "stream",
          "text": [
            "0\n",
            "[[['一部に乳成分・大豆を含む', '国内製造', '一部に乳成分・大豆を含む'], ['カカオマス', '全粉乳', 'フラクトオリゴ糖', '砂糖', '植物油脂', 'ココアバター／乳化剤', '香料', '砂糖', '全粉乳', 'カカオマス', 'ココアバター', '脱脂粉乳／乳化剤', '香料']]]\n",
            "1\n",
            "[[['一部に乳成分・大豆を含む', '国内製造', '一部に乳成分・大豆を含む'], ['カカオマス', '全粉乳', 'フラクトオリゴ糖', '砂糖', '植物油脂', 'ココアバター／乳化剤', '香料', '砂糖', '全粉乳', 'カカオマス', 'ココアバター', '脱脂粉乳／乳化剤', '香料']]]\n"
          ],
          "name": "stdout"
        }
      ]
    },
    {
      "cell_type": "code",
      "metadata": {
        "id": "H4XZQM12lHJ9"
      },
      "source": [
        ""
      ],
      "execution_count": null,
      "outputs": []
    }
  ]
}